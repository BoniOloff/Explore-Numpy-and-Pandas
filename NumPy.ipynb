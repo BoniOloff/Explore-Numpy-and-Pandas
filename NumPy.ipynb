{
 "cells": [
  {
   "cell_type": "markdown",
   "metadata": {},
   "source": [
    "### Import the package"
   ]
  },
  {
   "cell_type": "code",
   "execution_count": 1,
   "metadata": {},
   "outputs": [],
   "source": [
    "import numpy as np"
   ]
  },
  {
   "cell_type": "markdown",
   "metadata": {},
   "source": [
    "### Create array"
   ]
  },
  {
   "cell_type": "code",
   "execution_count": 4,
   "metadata": {},
   "outputs": [
    {
     "name": "stdout",
     "output_type": "stream",
     "text": [
      "[1 2 4]\n"
     ]
    }
   ],
   "source": [
    "# 1 dimension array\n",
    "a = np.array([1, 2, 4])\n",
    "print(a)"
   ]
  },
  {
   "cell_type": "code",
   "execution_count": 5,
   "metadata": {},
   "outputs": [
    {
     "name": "stdout",
     "output_type": "stream",
     "text": [
      "[[1.  2.9 3. ]\n",
      " [2.  4.5 6.1]]\n"
     ]
    }
   ],
   "source": [
    "# 2 dimensional array\n",
    "b = np.array([[1.0, 2.9, 3.0], [2, 4.5, 6.1]])\n",
    "print(b)"
   ]
  },
  {
   "cell_type": "code",
   "execution_count": 9,
   "metadata": {},
   "outputs": [
    {
     "name": "stdout",
     "output_type": "stream",
     "text": [
      "1\n",
      "2\n"
     ]
    }
   ],
   "source": [
    "# Get dimensions\n",
    "print(a.ndim)\n",
    "print(b.ndim)"
   ]
  },
  {
   "cell_type": "code",
   "execution_count": 8,
   "metadata": {},
   "outputs": [
    {
     "name": "stdout",
     "output_type": "stream",
     "text": [
      "(3,)\n",
      "(2, 3)\n"
     ]
    }
   ],
   "source": [
    "# Get shape\n",
    "print(a.shape)\n",
    "print(b.shape)"
   ]
  },
  {
   "cell_type": "code",
   "execution_count": 11,
   "metadata": {},
   "outputs": [
    {
     "name": "stdout",
     "output_type": "stream",
     "text": [
      "int32\n",
      "<class 'numpy.ndarray'>\n"
     ]
    }
   ],
   "source": [
    "# Get type\n",
    "print(a.dtype) # this is to get the type of object inside array\n",
    "print(type(a)) # this is to get the type of object which is the array"
   ]
  },
  {
   "cell_type": "markdown",
   "metadata": {},
   "source": [
    "### Access the values inside array"
   ]
  },
  {
   "cell_type": "code",
   "execution_count": 15,
   "metadata": {},
   "outputs": [
    {
     "name": "stdout",
     "output_type": "stream",
     "text": [
      "[[ 1  2  3  4  5  6  7  8]\n",
      " [ 9 10 11 12 13 14 15 16]]\n",
      "(2, 8)\n"
     ]
    }
   ],
   "source": [
    "a = np.array([[1,2,3,4,5,6,7,8], [9,10,11,12,13,14,15,16]])\n",
    "print(a)\n",
    "print(a.shape)"
   ]
  },
  {
   "cell_type": "code",
   "execution_count": 18,
   "metadata": {},
   "outputs": [
    {
     "name": "stdout",
     "output_type": "stream",
     "text": [
      "8\n",
      "15\n"
     ]
    }
   ],
   "source": [
    "# [row, column]\n",
    "print(a[0, 7]) # 8\n",
    "print(a[-1, -2]) # 15"
   ]
  },
  {
   "cell_type": "code",
   "execution_count": 21,
   "metadata": {},
   "outputs": [
    {
     "name": "stdout",
     "output_type": "stream",
     "text": [
      "[ 2 10]\n"
     ]
    }
   ],
   "source": [
    "# get specific column\n",
    "print(a[:,1])"
   ]
  },
  {
   "cell_type": "code",
   "execution_count": 24,
   "metadata": {},
   "outputs": [
    {
     "name": "stdout",
     "output_type": "stream",
     "text": [
      "[ 9 10 11 12 13 14 15 16]\n"
     ]
    }
   ],
   "source": [
    "# get specific row\n",
    "print(a[1,:])"
   ]
  },
  {
   "cell_type": "code",
   "execution_count": 31,
   "metadata": {},
   "outputs": [
    {
     "data": {
      "text/plain": [
       "array([12, 13, 14])"
      ]
     },
     "execution_count": 31,
     "metadata": {},
     "output_type": "execute_result"
    }
   ],
   "source": [
    "# using fancy index, to get 12, 13, 14\n",
    "a[1, 3:6:1]"
   ]
  },
  {
   "cell_type": "code",
   "execution_count": 32,
   "metadata": {},
   "outputs": [
    {
     "name": "stdout",
     "output_type": "stream",
     "text": [
      "[[  1   2   3   4   5   6   7   8]\n",
      " [  9  10  11  12  13  14  15 100]]\n"
     ]
    }
   ],
   "source": [
    "# change a value\n",
    "a[1,-1] = 100\n",
    "print(a)"
   ]
  },
  {
   "cell_type": "code",
   "execution_count": 34,
   "metadata": {},
   "outputs": [
    {
     "name": "stdout",
     "output_type": "stream",
     "text": [
      "[[  1   2 555   4   5   6   7   8]\n",
      " [  9  10 444  12  13  14  15 100]]\n"
     ]
    }
   ],
   "source": [
    "# change multiple value\n",
    "a[:, 2] = [555, 444]\n",
    "print(a)"
   ]
  },
  {
   "cell_type": "markdown",
   "metadata": {},
   "source": [
    "### Initializing custom array"
   ]
  },
  {
   "cell_type": "code",
   "execution_count": 40,
   "metadata": {},
   "outputs": [
    {
     "data": {
      "text/plain": [
       "array([[0., 0.],\n",
       "       [0., 0.],\n",
       "       [0., 0.],\n",
       "       [0., 0.],\n",
       "       [0., 0.],\n",
       "       [0., 0.],\n",
       "       [0., 0.],\n",
       "       [0., 0.],\n",
       "       [0., 0.]])"
      ]
     },
     "execution_count": 40,
     "metadata": {},
     "output_type": "execute_result"
    }
   ],
   "source": [
    "# 0 matrix\n",
    "np.zeros([9,2])\n",
    "#np.zeros((9,2))"
   ]
  },
  {
   "cell_type": "code",
   "execution_count": 38,
   "metadata": {},
   "outputs": [
    {
     "data": {
      "text/plain": [
       "array([[1, 1, 1, 1, 1],\n",
       "       [1, 1, 1, 1, 1],\n",
       "       [1, 1, 1, 1, 1]], dtype=int16)"
      ]
     },
     "execution_count": 38,
     "metadata": {},
     "output_type": "execute_result"
    }
   ],
   "source": [
    "# 1 matrix\n",
    "np.ones([3, 5], dtype='int16')"
   ]
  },
  {
   "cell_type": "code",
   "execution_count": 46,
   "metadata": {},
   "outputs": [
    {
     "data": {
      "text/plain": [
       "array([[99., 99., 99.],\n",
       "       [99., 99., 99.],\n",
       "       [99., 99., 99.],\n",
       "       [99., 99., 99.]], dtype=float32)"
      ]
     },
     "execution_count": 46,
     "metadata": {},
     "output_type": "execute_result"
    }
   ],
   "source": [
    "# any other matrix\n",
    "np.full([4,3], 99, dtype='float32')"
   ]
  },
  {
   "cell_type": "code",
   "execution_count": 49,
   "metadata": {},
   "outputs": [
    {
     "data": {
      "text/plain": [
       "array([[12, 12, 12, 12, 12, 12, 12, 12],\n",
       "       [12, 12, 12, 12, 12, 12, 12, 12]], dtype=int16)"
      ]
     },
     "execution_count": 49,
     "metadata": {},
     "output_type": "execute_result"
    }
   ],
   "source": [
    "# get the shape of other array to create a new custom array\n",
    "np.full_like(a, 12, dtype='int16')"
   ]
  },
  {
   "cell_type": "code",
   "execution_count": 76,
   "metadata": {},
   "outputs": [
    {
     "name": "stdout",
     "output_type": "stream",
     "text": [
      "Random number\n",
      " [[[0.19665967 0.23327488 0.48039522 0.96083758]\n",
      "  [0.94422568 0.26978098 0.41475604 0.01363533]]\n",
      "\n",
      " [[0.70266616 0.76087073 0.40873544 0.96542417]\n",
      "  [0.33807074 0.80790584 0.18489118 0.02087486]]\n",
      "\n",
      " [[0.17034837 0.817351   0.38714823 0.11256447]\n",
      "  [0.54337307 0.02981029 0.56270616 0.35248232]]\n",
      "\n",
      " [[0.48558537 0.83626715 0.04136347 0.47045915]\n",
      "  [0.12157349 0.96057839 0.76061505 0.14452503]]]\n",
      "\n",
      "Random int\n",
      " [[54 29 50 55]\n",
      " [45 55 23 35]\n",
      " [46 45 27 51]]\n",
      "\n",
      "Random normal distribution\n",
      " [[ 1.05324784  1.01747708 -0.70207634  0.84586704  1.05141431]\n",
      " [ 1.02764342  0.91130822  0.46461211  0.71418671  0.36375136]]\n",
      "\n",
      "Random sample to create new matrix using other matrix size\n",
      " [[0.8985915  0.35247819 0.97025324 0.04769622 0.16402164 0.3978878\n",
      "  0.28855192 0.85030599]\n",
      " [0.20928232 0.2476977  0.10726892 0.18225443 0.4879387  0.55311906\n",
      "  0.0885919  0.99918437]]\n"
     ]
    }
   ],
   "source": [
    "# create random matrix\n",
    "print('Random number\\n', np.random.rand(4,2,4))\n",
    "print('\\nRandom int\\n', np.random.randint(low=23, high=56, size=[3,4], dtype='int16'))\n",
    "print('\\nRandom normal distribution\\n', np.random.randn(2,5))\n",
    "print('\\nRandom sample to create new matrix using other matrix size\\n', np.random.random_sample(a.shape))"
   ]
  },
  {
   "cell_type": "code",
   "execution_count": 78,
   "metadata": {},
   "outputs": [
    {
     "name": "stdout",
     "output_type": "stream",
     "text": [
      "[[1. 0. 0. 0. 0. 0. 0. 0. 0.]\n",
      " [0. 1. 0. 0. 0. 0. 0. 0. 0.]\n",
      " [0. 0. 1. 0. 0. 0. 0. 0. 0.]\n",
      " [0. 0. 0. 1. 0. 0. 0. 0. 0.]\n",
      " [0. 0. 0. 0. 1. 0. 0. 0. 0.]\n",
      " [0. 0. 0. 0. 0. 1. 0. 0. 0.]\n",
      " [0. 0. 0. 0. 0. 0. 1. 0. 0.]\n",
      " [0. 0. 0. 0. 0. 0. 0. 1. 0.]\n",
      " [0. 0. 0. 0. 0. 0. 0. 0. 1.]]\n"
     ]
    }
   ],
   "source": [
    "# create identity matrix\n",
    "print(np.identity(9))"
   ]
  },
  {
   "cell_type": "code",
   "execution_count": 86,
   "metadata": {},
   "outputs": [
    {
     "data": {
      "text/plain": [
       "array([[9, 3, 4, 5],\n",
       "       [9, 3, 4, 5],\n",
       "       [9, 3, 4, 5],\n",
       "       [9, 3, 4, 5],\n",
       "       [3, 4, 1, 2],\n",
       "       [3, 4, 1, 2],\n",
       "       [3, 4, 1, 2],\n",
       "       [3, 4, 1, 2]])"
      ]
     },
     "execution_count": 86,
     "metadata": {},
     "output_type": "execute_result"
    }
   ],
   "source": [
    "# repeat array\n",
    "x = np.array([[9,3,4,5],[3,4,1,2]])\n",
    "np.repeat(x, 4, axis=0)"
   ]
  },
  {
   "cell_type": "code",
   "execution_count": 97,
   "metadata": {},
   "outputs": [
    {
     "name": "stdout",
     "output_type": "stream",
     "text": [
      "[[1 1 1 1 1]\n",
      " [1 0 0 0 1]\n",
      " [1 0 9 0 1]\n",
      " [1 0 0 0 1]\n",
      " [1 1 1 1 1]]\n"
     ]
    }
   ],
   "source": [
    "# create custom array\n",
    "x = np.ones([5,5], dtype='int32')\n",
    "x[1:-1,1:-1] = np.zeros([3,3])\n",
    "x[2,2] = 9\n",
    "print(x)"
   ]
  },
  {
   "cell_type": "markdown",
   "metadata": {},
   "source": [
    "### Copy array"
   ]
  },
  {
   "cell_type": "code",
   "execution_count": 99,
   "metadata": {},
   "outputs": [
    {
     "name": "stdout",
     "output_type": "stream",
     "text": [
      "[9 9 8 8]\n"
     ]
    }
   ],
   "source": [
    "a = np.array([9,9,8,8])\n",
    "b = a.copy() # doing this prevent original array to be modified unintentionaly\n",
    "b[2] = 90\n",
    "print(a)"
   ]
  },
  {
   "cell_type": "markdown",
   "metadata": {},
   "source": [
    "### Linear Algebra"
   ]
  },
  {
   "cell_type": "code",
   "execution_count": 103,
   "metadata": {},
   "outputs": [
    {
     "name": "stdout",
     "output_type": "stream",
     "text": [
      "[[6 6 6]\n",
      " [6 6 6]]\n",
      "[[5 5]\n",
      " [5 5]\n",
      " [5 5]]\n",
      "[[90 90]\n",
      " [90 90]]\n",
      "[[60 60 60]\n",
      " [60 60 60]\n",
      " [60 60 60]]\n"
     ]
    }
   ],
   "source": [
    "a = np.full([2,3], 6)\n",
    "print(a)\n",
    "\n",
    "b = np.full([3,2], 5)\n",
    "print(b)\n",
    "\n",
    "# row * col\n",
    "print(np.matmul(a, b))\n",
    "print(np.matmul(b, a))"
   ]
  },
  {
   "cell_type": "code",
   "execution_count": 105,
   "metadata": {},
   "outputs": [
    {
     "name": "stdout",
     "output_type": "stream",
     "text": [
      "1.0\n"
     ]
    }
   ],
   "source": [
    "# find determinant\n",
    "a= np.identity(8)\n",
    "print(np.linalg.det(a))"
   ]
  },
  {
   "cell_type": "markdown",
   "metadata": {},
   "source": [
    "### Statistics"
   ]
  },
  {
   "cell_type": "code",
   "execution_count": 109,
   "metadata": {},
   "outputs": [
    {
     "name": "stdout",
     "output_type": "stream",
     "text": [
      "[[0.89538016 0.77328451 0.44245372 0.10050612 0.25457724]\n",
      " [0.42373022 0.96991767 0.2839498  0.80069852 0.03405498]\n",
      " [0.12255632 0.18139596 0.59416412 0.51345192 0.9498027 ]\n",
      " [0.57299208 0.02415436 0.48436222 0.85282333 0.12281402]\n",
      " [0.79253    0.46957819 0.62124693 0.52912715 0.93561973]\n",
      " [0.71122715 0.64747183 0.06653333 0.16198026 0.70035383]\n",
      " [0.23130516 0.74754933 0.78162877 0.05777389 0.17433583]\n",
      " [0.50732327 0.00858171 0.80594607 0.30493616 0.66285044]\n",
      " [0.90587843 0.98990726 0.29115421 0.31160109 0.00327393]]\n"
     ]
    },
    {
     "data": {
      "text/plain": [
       "0.003273929299194789"
      ]
     },
     "execution_count": 109,
     "metadata": {},
     "output_type": "execute_result"
    }
   ],
   "source": [
    "a = np.random.rand(9,5)\n",
    "print(a)\n",
    "np.min(a)"
   ]
  },
  {
   "cell_type": "code",
   "execution_count": 112,
   "metadata": {},
   "outputs": [
    {
     "data": {
      "text/plain": [
       "array([0.89538016, 0.96991767, 0.9498027 , 0.85282333, 0.93561973,\n",
       "       0.71122715, 0.78162877, 0.80594607, 0.98990726])"
      ]
     },
     "execution_count": 112,
     "metadata": {},
     "output_type": "execute_result"
    }
   ],
   "source": [
    "np.max(a, axis=1)"
   ]
  },
  {
   "cell_type": "code",
   "execution_count": 113,
   "metadata": {},
   "outputs": [
    {
     "data": {
      "text/plain": [
       "array([0.49324035, 0.50247024, 0.4722742 , 0.4114292 , 0.6696204 ,\n",
       "       0.45751328, 0.39851859, 0.45792753, 0.50036298])"
      ]
     },
     "execution_count": 113,
     "metadata": {},
     "output_type": "execute_result"
    }
   ],
   "source": [
    "np.mean(a, axis=1)"
   ]
  },
  {
   "cell_type": "code",
   "execution_count": 111,
   "metadata": {},
   "outputs": [
    {
     "data": {
      "text/plain": [
       "21.81678389439368"
      ]
     },
     "execution_count": 111,
     "metadata": {},
     "output_type": "execute_result"
    }
   ],
   "source": [
    "np.sum(a)"
   ]
  },
  {
   "cell_type": "markdown",
   "metadata": {},
   "source": [
    "### Reorganizing arrays"
   ]
  },
  {
   "cell_type": "code",
   "execution_count": 117,
   "metadata": {},
   "outputs": [
    {
     "name": "stdout",
     "output_type": "stream",
     "text": [
      "[[53 30 82 74 72 61 39 56]\n",
      " [56 80 66 88 32 51 77 52]\n",
      " [30 49 69 71 36 49 30 56]\n",
      " [86 39 65 75 78 45 70 46]\n",
      " [54 47 55 43 73 61 41 73]]\n"
     ]
    }
   ],
   "source": [
    "a = np.random.randint(30, 89, [5,8])\n",
    "print(a)"
   ]
  },
  {
   "cell_type": "code",
   "execution_count": 118,
   "metadata": {},
   "outputs": [
    {
     "name": "stdout",
     "output_type": "stream",
     "text": [
      "(5, 8)\n"
     ]
    }
   ],
   "source": [
    "print(a.shape)"
   ]
  },
  {
   "cell_type": "code",
   "execution_count": 119,
   "metadata": {},
   "outputs": [
    {
     "data": {
      "text/plain": [
       "array([[53, 30, 82, 74, 72, 61, 39, 56, 56, 80],\n",
       "       [66, 88, 32, 51, 77, 52, 30, 49, 69, 71],\n",
       "       [36, 49, 30, 56, 86, 39, 65, 75, 78, 45],\n",
       "       [70, 46, 54, 47, 55, 43, 73, 61, 41, 73]])"
      ]
     },
     "execution_count": 119,
     "metadata": {},
     "output_type": "execute_result"
    }
   ],
   "source": [
    "# reshape\n",
    "a.reshape([4,10])"
   ]
  },
  {
   "cell_type": "code",
   "execution_count": 121,
   "metadata": {},
   "outputs": [
    {
     "data": {
      "text/plain": [
       "array([[[53, 30, 82, 74, 72],\n",
       "        [61, 39, 56, 56, 80],\n",
       "        [66, 88, 32, 51, 77],\n",
       "        [52, 30, 49, 69, 71]],\n",
       "\n",
       "       [[36, 49, 30, 56, 86],\n",
       "        [39, 65, 75, 78, 45],\n",
       "        [70, 46, 54, 47, 55],\n",
       "        [43, 73, 61, 41, 73]]])"
      ]
     },
     "execution_count": 121,
     "metadata": {},
     "output_type": "execute_result"
    }
   ],
   "source": [
    "a.reshape([2,4,5])"
   ]
  },
  {
   "cell_type": "code",
   "execution_count": 133,
   "metadata": {},
   "outputs": [
    {
     "data": {
      "text/plain": [
       "array([[3, 5, 6, 7, 3],\n",
       "       [4, 5, 3, 3, 2],\n",
       "       [5, 3, 2, 4, 5],\n",
       "       [3, 3, 2, 2, 2],\n",
       "       [5, 3, 2, 4, 5],\n",
       "       [3, 3, 2, 2, 2]])"
      ]
     },
     "execution_count": 133,
     "metadata": {},
     "output_type": "execute_result"
    }
   ],
   "source": [
    "# vertical stack array\n",
    "v1 = np.array([[3,5,6,7,3],[4,5,3,3,2]])\n",
    "v2 = np.array([[5,3,2,4,5],[3,3,2,2,2]])\n",
    "np.vstack([v1, v2, v2])"
   ]
  },
  {
   "cell_type": "code",
   "execution_count": 134,
   "metadata": {},
   "outputs": [
    {
     "data": {
      "text/plain": [
       "array([[3, 5, 6, 7, 3, 5, 3, 2, 4, 5],\n",
       "       [4, 5, 3, 3, 2, 3, 3, 2, 2, 2]])"
      ]
     },
     "execution_count": 134,
     "metadata": {},
     "output_type": "execute_result"
    }
   ],
   "source": [
    "# horizontal stack\n",
    "np.hstack([v1, v2])"
   ]
  },
  {
   "cell_type": "markdown",
   "metadata": {},
   "source": [
    "### Indexing"
   ]
  },
  {
   "cell_type": "code",
   "execution_count": 138,
   "metadata": {},
   "outputs": [
    {
     "data": {
      "text/plain": [
       "array([3, 3, 3, 3, 2])"
      ]
     },
     "execution_count": 138,
     "metadata": {},
     "output_type": "execute_result"
    }
   ],
   "source": [
    "# single criteria\n",
    "v1[v1 < 4]"
   ]
  },
  {
   "cell_type": "code",
   "execution_count": 146,
   "metadata": {},
   "outputs": [
    {
     "name": "stdout",
     "output_type": "stream",
     "text": [
      "[[3 5 6 7 3]\n",
      " [4 5 3 3 2]]\n",
      "[[False  True False False False]\n",
      " [ True  True False False False]]\n"
     ]
    }
   ],
   "source": [
    "# multiple criteria\n",
    "print(v1)\n",
    "print(np.logical_and(v1 > 3, v1 <= 5))"
   ]
  },
  {
   "cell_type": "code",
   "execution_count": 152,
   "metadata": {},
   "outputs": [
    {
     "name": "stdout",
     "output_type": "stream",
     "text": [
      "[[ 1  2  3  4  5]\n",
      " [ 6  7  8  9 10]\n",
      " [11 12 13 14 15]\n",
      " [16 17 18 19 20]\n",
      " [21 22 23 24 25]\n",
      " [26 27 28 29 30]]\n"
     ]
    }
   ],
   "source": [
    "# creating fancy stuf\n",
    "x = np.array([x for x in range(1,31)]).reshape(6,5)\n",
    "print(x)"
   ]
  },
  {
   "cell_type": "code",
   "execution_count": 154,
   "metadata": {},
   "outputs": [
    {
     "data": {
      "text/plain": [
       "array([[11, 12],\n",
       "       [16, 17]])"
      ]
     },
     "execution_count": 154,
     "metadata": {},
     "output_type": "execute_result"
    }
   ],
   "source": [
    "# get 11, 12, 16, 17\n",
    "x[2:4, :2]"
   ]
  },
  {
   "cell_type": "code",
   "execution_count": 177,
   "metadata": {},
   "outputs": [
    {
     "name": "stdout",
     "output_type": "stream",
     "text": [
      "criteria: \n",
      " [[False  True False False False]\n",
      " [False False  True False False]\n",
      " [False False False  True False]\n",
      " [False False False False  True]\n",
      " [False False False False False]\n",
      " [False False False False False]]\n",
      "\n",
      "Filtered x:\n",
      " [ 2  8 14 20]\n",
      "[ 2  8 14 20]\n"
     ]
    }
   ],
   "source": [
    "# get 2, 8, 14, 20\n",
    "c = np.zeros([6,5], dtype='bool')\n",
    "c[:4,1:] = np.identity(4, dtype='bool')\n",
    "print('criteria: \\n', c)\n",
    "\n",
    "print('\\nFiltered x:\\n', x[c])\n",
    "# OR\n",
    "print(x[[0,1,2,3], [1,2,3,4]])"
   ]
  },
  {
   "cell_type": "code",
   "execution_count": 182,
   "metadata": {},
   "outputs": [
    {
     "data": {
      "text/plain": [
       "array([[ 4,  5],\n",
       "       [24, 25],\n",
       "       [29, 30]])"
      ]
     },
     "execution_count": 182,
     "metadata": {},
     "output_type": "execute_result"
    }
   ],
   "source": [
    "# get 4,5,24,25,29,30\n",
    "x[[0, -2,-1],-2:]"
   ]
  }
 ],
 "metadata": {
  "kernelspec": {
   "display_name": "Python 3",
   "language": "python",
   "name": "python3"
  },
  "language_info": {
   "codemirror_mode": {
    "name": "ipython",
    "version": 3
   },
   "file_extension": ".py",
   "mimetype": "text/x-python",
   "name": "python",
   "nbconvert_exporter": "python",
   "pygments_lexer": "ipython3",
   "version": "3.7.7"
  }
 },
 "nbformat": 4,
 "nbformat_minor": 4
}
